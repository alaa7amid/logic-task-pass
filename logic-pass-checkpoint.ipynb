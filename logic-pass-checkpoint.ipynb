{
 "cells": [
  {
   "cell_type": "code",
   "execution_count": 16,
   "id": "d014d64c",
   "metadata": {},
   "outputs": [
    {
     "name": "stdout",
     "output_type": "stream",
     "text": [
      " bc12321cb \n"
     ]
    }
   ],
   "source": [
    "#task1\n",
    "s = 'abc12321cba'\n",
    "\n",
    "print(s.replace('a', ' '))\n"
   ]
  },
  {
   "cell_type": "code",
   "execution_count": null,
   "id": "3b8d9727",
   "metadata": {},
   "outputs": [],
   "source": []
  },
  {
   "cell_type": "code",
   "execution_count": 18,
   "id": "f52855b4",
   "metadata": {},
   "outputs": [
    {
     "name": "stdout",
     "output_type": "stream",
     "text": [
      "Enter the min : 3\n",
      "Enter the max : 25\n",
      "3\n",
      "5\n",
      "7\n",
      "11\n",
      "13\n",
      "17\n",
      "19\n",
      "23\n"
     ]
    }
   ],
   "source": [
    "#task 2\n",
    "min = int(input(\"Enter the min : \"))\n",
    "max = int(input(\"Enter the max : \"))\n",
    "for n in range(min,max + 1):\n",
    "    \n",
    "    if n > 1:\n",
    "        for i in range(2,n):\n",
    "            if (n % i) == 0:\n",
    "                break\n",
    "        else:\n",
    "            print(n)"
   ]
  },
  {
   "cell_type": "code",
   "execution_count": null,
   "id": "d418105a",
   "metadata": {},
   "outputs": [],
   "source": [
    "\n"
   ]
  },
  {
   "cell_type": "code",
   "execution_count": 21,
   "id": "ee0acfb3",
   "metadata": {},
   "outputs": [
    {
     "name": "stdout",
     "output_type": "stream",
     "text": [
      "a 7\n",
      "c 5\n",
      "e 7\n",
      "g 2\n",
      "h 5\n",
      "i 5\n",
      "m 3\n",
      "n 3\n",
      "o 2\n",
      "p 2\n",
      "r 4\n",
      "s 5\n",
      "t 5\n"
     ]
    }
   ],
   "source": [
    "#task 3\n",
    "chars = \"abcdefghijklmnopqrstuvwxyz\"\n",
    "check_string = \"i am checking this string to see how many times each character appears\"\n",
    "\n",
    "for char in chars:\n",
    "    count = check_string.count(char)\n",
    "    if count > 1:\n",
    "        print (char, count)"
   ]
  },
  {
   "cell_type": "code",
   "execution_count": null,
   "id": "11c0a92b",
   "metadata": {},
   "outputs": [],
   "source": []
  }
 ],
 "metadata": {
  "kernelspec": {
   "display_name": "Python 3 (ipykernel)",
   "language": "python",
   "name": "python3"
  },
  "language_info": {
   "codemirror_mode": {
    "name": "ipython",
    "version": 3
   },
   "file_extension": ".py",
   "mimetype": "text/x-python",
   "name": "python",
   "nbconvert_exporter": "python",
   "pygments_lexer": "ipython3",
   "version": "3.9.12"
  }
 },
 "nbformat": 4,
 "nbformat_minor": 5
}
